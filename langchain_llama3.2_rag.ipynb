{
 "cells": [
  {
   "cell_type": "markdown",
   "metadata": {},
   "source": [
    "# Install dependencies in the terminal\n",
    "pip install transformers\n",
    "pip install langchain, langchain-huggingface, langchain-community\n",
    "pip install faiss-cpu"
   ]
  },
  {
   "cell_type": "code",
   "execution_count": 29,
   "metadata": {},
   "outputs": [],
   "source": [
    "# Import dependencies\n",
    "from langchain_huggingface import HuggingFacePipeline, ChatHuggingFace\n",
    "from langchain_community.embeddings.sentence_transformer import (\n",
    "    SentenceTransformerEmbeddings,\n",
    "    )\n",
    "from langchain.vectorstores import FAISS\n",
    "from langchain_text_splitters import RecursiveCharacterTextSplitter\n",
    "from langchain_community.document_loaders import AsyncHtmlLoader\n",
    "from langchain_community.document_transformers import BeautifulSoupTransformer\n",
    "from langchain.chains import RetrievalQA"
   ]
  },
  {
   "cell_type": "code",
   "execution_count": 21,
   "metadata": {},
   "outputs": [
    {
     "name": "stderr",
     "output_type": "stream",
     "text": [
      "Device set to use cuda:0\n"
     ]
    }
   ],
   "source": [
    "# Load LLM\n",
    "model_id = \"unsloth/Llama-3.2-1B-Instruct\"\n",
    "# microsoft/Phi-4-mini-instruct\n",
    "# google/gemma-3-1b-it\n",
    "# meta-llama/Llama-3.2-1B-Instruct\n",
    "# unsloth/Llama-3.2-1B-Instruct\n",
    "\n",
    "# LLM\n",
    "llm = HuggingFacePipeline.from_model_id(\n",
    "    model_id=model_id,\n",
    "    task=\"text-generation\",\n",
    "    pipeline_kwargs=dict(\n",
    "        max_new_tokens=512,\n",
    "        do_sample=False,\n",
    "        repetition_penalty=1.03,\n",
    "    ),\n",
    ")\n",
    "\n",
    "\n",
    "# Chat\n",
    "chat = ChatHuggingFace(llm=llm, verbose=True)"
   ]
  },
  {
   "cell_type": "code",
   "execution_count": 22,
   "metadata": {},
   "outputs": [
    {
     "name": "stderr",
     "output_type": "stream",
     "text": [
      "C:\\Users\\yanpe\\AppData\\Local\\Packages\\PythonSoftwareFoundation.Python.3.12_qbz5n2kfra8p0\\LocalCache\\local-packages\\Python312\\site-packages\\transformers\\generation\\configuration_utils.py:628: UserWarning: `do_sample` is set to `False`. However, `temperature` is set to `0.6` -- this flag is only used in sample-based generation modes. You should set `do_sample=True` or unset `temperature`.\n",
      "  warnings.warn(\n",
      "C:\\Users\\yanpe\\AppData\\Local\\Packages\\PythonSoftwareFoundation.Python.3.12_qbz5n2kfra8p0\\LocalCache\\local-packages\\Python312\\site-packages\\transformers\\generation\\configuration_utils.py:633: UserWarning: `do_sample` is set to `False`. However, `top_p` is set to `0.9` -- this flag is only used in sample-based generation modes. You should set `do_sample=True` or unset `top_p`.\n",
      "  warnings.warn(\n"
     ]
    },
    {
     "data": {
      "text/plain": [
       "\"What is SmartLab? SmartLab is a company that specializes in developing and manufacturing high-quality, innovative laboratory equipment for the scientific community. Their products are designed to make scientific research more efficient, accurate, and cost-effective.\\n\\nSmartLab's products include a wide range of laboratory instruments, such as microscopes, spectrometers, and centrifuges, as well as software solutions for data analysis and visualization. Their equipment is known for its high precision, reliability, and ease of use, making it accessible to researchers from various disciplines, including biology, chemistry, physics, and more.\\n\\nSome of the key features of SmartLab's products include:\\n\\n* High-resolution imaging and spectroscopy\\n* Advanced data analysis and visualization tools\\n* Compact and portable designs\\n* Easy-to-use interfaces and software\\n* Compatibility with a wide range of operating systems\\n\\nOverall, SmartLab is a leading provider of laboratory equipment and software solutions for the scientific community, helping researchers to advance their knowledge and discoveries.\\n\\n**Key Features:**\\n\\n* High-resolution imaging and spectroscopy\\n* Advanced data analysis and visualization tools\\n* Compact and portable designs\\n* Easy-to-use interfaces and software\\n* Compatibility with a wide range of operating systems\\n\\n**Target Audience:**\\n\\n* Researchers in various disciplines (biology, chemistry, physics, etc.)\\n* Academics and students\\n* Industry professionals (pharmaceuticals, biotechnology, etc.)\\n\\n**Industry Applications:**\\n\\n* Research and development\\n* Clinical diagnostics\\n* Pharmaceutical industry\\n* Biotechnology\\n* Food and beverage industry\\n\\n**Competitive Advantage:**\\n\\n* High-quality, innovative products\\n* Wide range of products and services\\n* Strong customer support and technical expertise\\n* Competitive pricing and value proposition\\n\\n**Company Overview:**\\n\\n* Founded in [Year]\\n* Headquartered in [Location]\\n* Global presence with a network of distributors and partners\\n* Strong online presence through e-commerce platform and social media channels\\n\\n**Revenue Model:**\\n\\n* Direct sales of products and services\\n* Licensing agreements with universities and research institutions\\n* Partnerships with industry partners and suppliers\\n\\n**Growth Strategy:**\\n\\n* Expand product offerings and services to meet growing demand\\n* Develop strategic partnerships with research institutions and industry leaders\\n* Invest in marketing and sales efforts to increase brand awareness and customer acquisition\\n\\n**Financial Projections:**\\n\\n* Revenue growth: [Percentage] per annum\\n* Net income growth: [Percentage] per annum\\n* Market share growth: [Percentage] per annum\\n\\nNote: The above information is fictional and used for demonstration purposes only. SmartLab is a real company\""
      ]
     },
     "execution_count": 22,
     "metadata": {},
     "output_type": "execute_result"
    }
   ],
   "source": [
    "llm.invoke(\"What is SmartLab?\")"
   ]
  },
  {
   "cell_type": "code",
   "execution_count": 23,
   "metadata": {},
   "outputs": [
    {
     "name": "stderr",
     "output_type": "stream",
     "text": [
      "C:\\Users\\yanpe\\AppData\\Local\\Packages\\PythonSoftwareFoundation.Python.3.12_qbz5n2kfra8p0\\LocalCache\\local-packages\\Python312\\site-packages\\transformers\\generation\\configuration_utils.py:628: UserWarning: `do_sample` is set to `False`. However, `temperature` is set to `0.6` -- this flag is only used in sample-based generation modes. You should set `do_sample=True` or unset `temperature`.\n",
      "  warnings.warn(\n",
      "C:\\Users\\yanpe\\AppData\\Local\\Packages\\PythonSoftwareFoundation.Python.3.12_qbz5n2kfra8p0\\LocalCache\\local-packages\\Python312\\site-packages\\transformers\\generation\\configuration_utils.py:633: UserWarning: `do_sample` is set to `False`. However, `top_p` is set to `0.9` -- this flag is only used in sample-based generation modes. You should set `do_sample=True` or unset `top_p`.\n",
      "  warnings.warn(\n"
     ]
    },
    {
     "data": {
      "text/plain": [
       "AIMessage(content=\"<|begin_of_text|><|start_header_id|>system<|end_header_id|>\\n\\nCutting Knowledge Date: December 2023\\nToday Date: 25 Mar 2025\\n\\nYou are a helpful assistant.<|eot_id|><|start_header_id|>user<|end_header_id|>\\n\\nWhat is SmartLab?<|eot_id|><|start_header_id|>assistant<|end_header_id|>\\n\\nSmartLab is a popular online platform that allows users to conduct experiments and learn about various scientific concepts in a hands-on, interactive way. It's often used in educational settings, particularly for middle school and high school students.\\n\\nWith SmartLab, users can explore different experiments, such as chemistry, physics, biology, and more, by creating and conducting their own experiments using virtual labs. The platform provides a user-friendly interface, step-by-step instructions, and real-time feedback, making it an engaging and effective way to learn about scientific concepts.\\n\\nSome of the features of SmartLab include:\\n\\n1. Virtual labs: Users can create and conduct their own experiments, with the option to share their results and compare them with others.\\n2. Interactive simulations: SmartLab offers interactive simulations that allow users to explore complex concepts in a safe and controlled environment.\\n3. Real-time feedback: The platform provides instant feedback on users' experiments, helping them identify areas for improvement and track their progress.\\n4. Community features: SmartLab has a community aspect, where users can share their experiments, ask questions, and collaborate with others.\\n5. Customizable: Users can customize their experiments and environments to suit their needs and interests.\\n\\nSmartLab is designed to be accessible to students of all ages and skill levels, making it an excellent tool for learning and exploration in the field of science.\", additional_kwargs={}, response_metadata={}, id='run-1bb24361-bcf0-485f-aa24-88f98a7d8d30-0')"
      ]
     },
     "execution_count": 23,
     "metadata": {},
     "output_type": "execute_result"
    }
   ],
   "source": [
    "messages = [\n",
    "    (\"system\", \"You are a helpful assistant.\"),\n",
    "    (\"human\", \"What is SmartLab?\"),\n",
    "]\n",
    "\n",
    "chat.invoke(messages)"
   ]
  },
  {
   "cell_type": "code",
   "execution_count": 24,
   "metadata": {},
   "outputs": [
    {
     "name": "stderr",
     "output_type": "stream",
     "text": [
      "Fetching pages: 100%|##########| 1/1 [00:00<00:00,  4.03it/s]"
     ]
    },
    {
     "name": "stdout",
     "output_type": "stream",
     "text": [
      "18\n",
      "15864\n"
     ]
    },
    {
     "name": "stderr",
     "output_type": "stream",
     "text": [
      "\n"
     ]
    }
   ],
   "source": [
    "# Load documents from webpage\n",
    "urls = [\"https://www.metropolia.fi/fi/tutkimus-kehitys-ja-innovaatiot/yhteistyoalustat/smart-lab\"]\n",
    "loader_html = AsyncHtmlLoader(urls)\n",
    "docs_html = loader_html.load()\n",
    "\n",
    "bs_transformer = BeautifulSoupTransformer()\n",
    "docs_transformed = bs_transformer.transform_documents(docs_html, tags_to_extract=[\"div\"])\n",
    "\n",
    "# Split it into chunks\n",
    "text_splitter = RecursiveCharacterTextSplitter(chunk_size=1000, chunk_overlap=100)\n",
    "docs_transformed_split = text_splitter.split_documents(docs_transformed)\n",
    "\n",
    "\n",
    "print(len(docs_transformed_split))\n",
    "print(len(docs_transformed[0].page_content))"
   ]
  },
  {
   "cell_type": "code",
   "execution_count": 25,
   "metadata": {},
   "outputs": [],
   "source": [
    "# create the open-source embedding function\n",
    "embedding_function = SentenceTransformerEmbeddings(model_name=\"all-MiniLM-L6-v2\")\n",
    "\n",
    "# load it into FAISS\n",
    "html_db = FAISS.from_documents(docs_transformed_split, embedding_function)"
   ]
  },
  {
   "cell_type": "code",
   "execution_count": 26,
   "metadata": {},
   "outputs": [],
   "source": [
    "# Retriever\n",
    "\n",
    "retriever_html = html_db.as_retriever()\n",
    "\n",
    "qa_web = RetrievalQA.from_chain_type(\n",
    "    llm=llm,\n",
    "    chain_type=\"stuff\",\n",
    "    retriever=retriever_html,    \n",
    "    verbose=True\n",
    ")"
   ]
  },
  {
   "cell_type": "code",
   "execution_count": 27,
   "metadata": {},
   "outputs": [],
   "source": [
    "# Retrieval QA \n",
    "from time import time\n",
    "def qa_rag(qa, query):\n",
    "    print(f\"Query: {query}\\n\")\n",
    "    time_1 = time()\n",
    "    result = qa.run(query)\n",
    "    time_2 = time()\n",
    "    print(f\"Inference time: {round(time_2-time_1, 3)} sec.\")\n",
    "    print(\"\\nResult:\", result)"
   ]
  },
  {
   "cell_type": "code",
   "execution_count": 28,
   "metadata": {},
   "outputs": [
    {
     "name": "stdout",
     "output_type": "stream",
     "text": [
      "Query: Who are involved in the project SmartLab?\n",
      "\n",
      "\n",
      "\n",
      "\u001b[1m> Entering new RetrievalQA chain...\u001b[0m\n"
     ]
    },
    {
     "name": "stderr",
     "output_type": "stream",
     "text": [
      "C:\\Users\\yanpe\\AppData\\Local\\Packages\\PythonSoftwareFoundation.Python.3.12_qbz5n2kfra8p0\\LocalCache\\local-packages\\Python312\\site-packages\\transformers\\generation\\configuration_utils.py:628: UserWarning: `do_sample` is set to `False`. However, `temperature` is set to `0.6` -- this flag is only used in sample-based generation modes. You should set `do_sample=True` or unset `temperature`.\n",
      "  warnings.warn(\n",
      "C:\\Users\\yanpe\\AppData\\Local\\Packages\\PythonSoftwareFoundation.Python.3.12_qbz5n2kfra8p0\\LocalCache\\local-packages\\Python312\\site-packages\\transformers\\generation\\configuration_utils.py:633: UserWarning: `do_sample` is set to `False`. However, `top_p` is set to `0.9` -- this flag is only used in sample-based generation modes. You should set `do_sample=True` or unset `top_p`.\n",
      "  warnings.warn(\n"
     ]
    },
    {
     "name": "stdout",
     "output_type": "stream",
     "text": [
      "\n",
      "\u001b[1m> Finished chain.\u001b[0m\n",
      "Inference time: 1.232 sec.\n",
      "\n",
      "Result: Use the following pieces of context to answer the question at the end. If you don't know the answer, just say that you don't know, don't try to make up an answer.\n",
      "\n",
      "(/sites/default/files/2021-12/sl_049_nettikoko.jpg) SmartLab-keittiö   (/sites/default/files/2021-12/sl_108_nettikoko.jpg)                (/sites/default/files/2021-12/sl_108_nettikoko.jpg) SmartLab-paneeli   (/sites/default/files/2021-12/sl_015_nettikoko.jpg)                (/sites/default/files/2021-12/sl_015_nettikoko.jpg) SmartLab sähkökaappi   (/sites/default/files/2021-12/sl_059_nettikoko.jpg)                (/sites/default/files/2021-12/sl_059_nettikoko.jpg) Valokatkaisimia SmartLabissa   (/sites/default/files/2021-12/sl_060_nettikoko.jpg)                (/sites/default/files/2021-12/sl_060_nettikoko.jpg) SmartLab valaistus Ota yhteyttä Teknologiapäällikkö Harri Hahkala p. 040 082 8636 harri.hahkala [at] metropolia.fi (harri[dot]hahkala[at]metropolia[dot]fi) Innovaatiojohtaja Anna-Stina Tähkävuori p. 040 670 8525 anna-stina.tahkavuori [at] metropolia.fi (anna-stina[dot]tahkavuori[at]metropolia[dot]fi) Yhteistyössä   (https://new.abb.com/fi)\n",
      "\n",
      "rakentajien kampus.  Myyrmäen kampus (/fi/metropoliasta/kampukset/myyrmaki) Myyrmäen kampuksella teollinen teknologia ja kansainvälinen liiketalous paiskaavat kättä.   (/fi/verkkokauppa) Verkkokauppa  (/fi/verkkokauppa) SmartLab – älykotien kehitysalusta   Etusivu (/fi)  Tutkimus-, kehitys- ja innovaatiotoiminta (/fi/tutkimus-kehitys-ja-innovaatiot)  Yhteistyöalustat (/fi/tutkimus-kehitys-ja-innovaatiot/yhteistyoalustat) Smart Lab   Myllypuron kampuksella sijaitseva SmartLab on asumista palvelevan teknologian kehittämiseen ja testaukseen suunniteltu asunto, joka toimii myös koekenttänä innovaatioprojekteissa ja opinnäytetöissä. SmartLab on Skanskan (https://www.skanska.fi/) , ABB:n (https://new.abb.com/fi) ja Metropolian yhteinen hanke. Älykotialustalla testataan ja kehitetään teknologioita, rajapintoja ja käytäntöjä, joiden avulla voidaan kehittää asumista palvelevia käyttäjäystävällisiä ratkaisuja. Ratkaisujen on tarkoitus soveltua elämänkaaren eri vaiheisiin. Laajemmin tavoitteena\n",
      "\n",
      "Tällainen tulevaisuuden koti voi olla – SmartLabissa kiihdytetään älykkään asumisen ratkaisuja (/fi/metropoliasta/ajankohtaista/uutiset/tallainen-tulevaisuuden-koti-voi-olla-smartlabissa-kiihdytetaan-alykkaan-asumisen-ratkaisuja) Skanskan, ABB:n ja Metropolian yhteinen SmartLab-alusta kiihdyttää älykkään asumisen ratkaisuja (/fi/metropoliasta/ajankohtaista/uutiset/skanskan-abbn-ja-metropolian-yhteinen-smartlab-alusta-kiihdyttaa-alykkaan-asumisen-ratkaisuja) Skanskan lehdistötiedote: Skanska ja ABB toteuttavat yhteistyössä Metropolian kanssa SmartLab-alustan älykotien kehittämiseen (https://www.skanska.fi/tietoa-skanskasta/media/uutiset/241473/Skanska-ja-ABB-toteuttavat-yhteistyossa-Metropolian-kanssa-SmartLabalustan-alykotien-kehittamiseen) Rakennuslehti 1/2020: Skanska ja ABB kehittävät älykotia yhdessä Metropolian kanssa (https://www.rakennuslehti.fi/2020/01/skanska-ja-abb-kehittavat-alykotia-yhdessa-metropolian-kanssa/)  Metropolia Ammattikorkeakoulu Käyntiosoite Myllypurontie 1,\n",
      "\n",
      "näkökulmasta erilaisia ratkaisuja, jotka edistävät hyvinvointia ja helpottavat arkielämää tulevaisuuden älykkäissä kodeissa. Ratkaisujen toivotaan olevan sellaisia, jotka palvelevat mahdollisimman monia ihmisiä iästä, taustasta tai tarpeista riippumatta. SmartLabissa olemassa olevat tekniset järjestelmät voivat tukea ratkaisujen toteuttamista mutta projektin tarkoituksena ei ole suunnitella älykotijärjestelmiä vaan tunnistaa ja edistää niiden sosiaalisia tarpeita, käyttötapauksia ja käytettävyyttä erilaisia ihmisiä palvelevalla tavalla. Ryhmän kehittämä ratkaisu on mahdollista toteuttaa käytännössä tulevaisuudessa SmartLab -alustalla. SmartLabin rakentaminen Kuvia SmartLabista   (/sites/default/files/2021-12/sl_079_nettikoko.jpg)                (/sites/default/files/2021-12/sl_079_nettikoko.jpg) Smartlab   (/sites/default/files/2021-12/sl_049_nettikoko.jpg)                (/sites/default/files/2021-12/sl_049_nettikoko.jpg) SmartLab-keittiö\n",
      "\n",
      "Question: Who are involved in the project SmartLab?\n",
      "Helpful Answer: The project SmartLab is being carried out by a team of experts from Skanska, ABB, and Metropolia.\n"
     ]
    }
   ],
   "source": [
    "query = \"Who are involved in the project SmartLab?\"\n",
    "qa_rag(qa_web, query)"
   ]
  },
  {
   "cell_type": "code",
   "execution_count": null,
   "metadata": {},
   "outputs": [],
   "source": [
    "# Clear RAM cache\n",
    "#del pipe\n",
    "\n",
    "# Clear CUDA cache\n",
    "import torch\n",
    "torch.cuda.empty_cache()"
   ]
  }
 ],
 "metadata": {
  "kernelspec": {
   "display_name": "Python 3",
   "language": "python",
   "name": "python3"
  },
  "language_info": {
   "codemirror_mode": {
    "name": "ipython",
    "version": 3
   },
   "file_extension": ".py",
   "mimetype": "text/x-python",
   "name": "python",
   "nbconvert_exporter": "python",
   "pygments_lexer": "ipython3",
   "version": "3.12.9"
  }
 },
 "nbformat": 4,
 "nbformat_minor": 2
}
